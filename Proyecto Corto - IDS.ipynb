{
 "cells": [
  {
   "cell_type": "markdown",
   "metadata": {},
   "source": [
    "# Búsqueda por profundidad iterativa (IDS)"
   ]
  },
  {
   "cell_type": "markdown",
   "metadata": {},
   "source": [
    "## Definición"
   ]
  },
  {
   "cell_type": "markdown",
   "metadata": {},
   "source": [
    "Este algoritmo de búsqueda no informada utiliza iteraciones de búsquedas cada vez más profundas, aumentando gradualmente el límite realizando la búsqueda en sucesivos niveles, hasta encontrar una solución."
   ]
  },
  {
   "cell_type": "markdown",
   "metadata": {},
   "source": [
    "Combina la eficiencia del espacio de estados de la búsqueda en profundidad y la completitud de la búsqueda en anchura (cuando el factor de ramificación es finito)."
   ]
  },
  {
   "cell_type": "markdown",
   "metadata": {},
   "source": [
    "# Medidas de Rendimiento"
   ]
  },
  {
   "cell_type": "markdown",
   "metadata": {},
   "source": [
    "- Completo: Es completo, si existe una solución la encuentra.\n",
    "- Óptimo: Es óptimo, cuando encuentra una solución es la más superficial.\n",
    "- Complejidad:\n",
    "    - Tiempo: Exponencial O(b**d)\n",
    "    - Espacio: Lineal O(bd)"
   ]
  },
  {
   "cell_type": "markdown",
   "metadata": {},
   "source": [
    "## Funcionamiento"
   ]
  },
  {
   "cell_type": "markdown",
   "metadata": {},
   "source": [
    "1- Se define una profundidad predefinida.\n",
    "\n",
    "2- Se desarrolla el árbol realizando una búsqueda en profundidad hasta el límite definido en el punto # 1.\n",
    "\n",
    "3- Si se encuentra la solución termina el algoritmo.\n",
    "\n",
    "4- En caso contrario se establece un nuevo límite y se vuelve al \n",
    "paso # 2.\n"
   ]
  },
  {
   "cell_type": "markdown",
   "metadata": {},
   "source": [
    "## Aplicaciones"
   ]
  },
  {
   "cell_type": "markdown",
   "metadata": {},
   "source": [
    "Este método es funcional en escenarios donde existen profundidad media y alta."
   ]
  },
  {
   "cell_type": "markdown",
   "metadata": {},
   "source": [
    "## Ventajas y Desventajas"
   ]
  },
  {
   "cell_type": "markdown",
   "metadata": {},
   "source": [
    "- Ventajas\n",
    "    - Ocupa muy poco espacio.\n",
    "    - No cae en bucles infinitos.\n",
    "    - Es completo y óptimo.\n",
    "- Desventajas:\n",
    "    - Puede probar muchos caminos inútiles.\n",
    "    - Visita muchas veces los nodos superficiales.\n",
    "    - Coste constante y no negativo."
   ]
  },
  {
   "cell_type": "code",
   "execution_count": null,
   "metadata": {},
   "outputs": [],
   "source": []
  },
  {
   "cell_type": "code",
   "execution_count": null,
   "metadata": {},
   "outputs": [],
   "source": []
  }
 ],
 "metadata": {
  "kernelspec": {
   "display_name": "Python 3",
   "language": "python",
   "name": "python3"
  },
  "language_info": {
   "codemirror_mode": {
    "name": "ipython",
    "version": 3
   },
   "file_extension": ".py",
   "mimetype": "text/x-python",
   "name": "python",
   "nbconvert_exporter": "python",
   "pygments_lexer": "ipython3",
   "version": "3.6.4"
  }
 },
 "nbformat": 4,
 "nbformat_minor": 2
}
